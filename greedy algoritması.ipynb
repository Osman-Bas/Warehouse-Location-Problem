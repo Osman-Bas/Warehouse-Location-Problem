{
 "cells": [
  {
   "cell_type": "code",
   "execution_count": 1,
   "id": "84e76fbd-7251-4114-a88f-11b19ee621a3",
   "metadata": {},
   "outputs": [],
   "source": [
    "def read_wlp_data(filepath):\n",
    "    with open(filepath, 'r') as file:\n",
    "        lines = file.readlines()\n",
    "\n",
    "    n_depos, n_customers = map(int, lines[0].split())\n",
    "    \n",
    "    # Depo bilgileri\n",
    "    capacities = []\n",
    "    fixed_costs = []\n",
    "    for i in range(1, 1 + n_depos):\n",
    "        c, f = map(float, lines[i].split())\n",
    "        capacities.append(c)\n",
    "        fixed_costs.append(f)\n",
    "    \n",
    "    # Müşteri bilgileri\n",
    "    demands = []\n",
    "    costs = []\n",
    "    idx = 1 + n_depos\n",
    "    for _ in range(n_customers):\n",
    "        demand = float(lines[idx])\n",
    "        idx += 1\n",
    "        transport_costs = list(map(float, lines[idx].split()))\n",
    "        idx += 1\n",
    "        demands.append(demand)\n",
    "        costs.append(transport_costs)\n",
    "    \n",
    "    return n_depos, n_customers, capacities, fixed_costs, demands, costs"
   ]
  },
  {
   "cell_type": "code",
   "execution_count": 2,
   "id": "b288dbc2-2532-48fe-959c-a9ba018972e2",
   "metadata": {},
   "outputs": [
    {
     "name": "stdout",
     "output_type": "stream",
     "text": [
      "Depo Sayısı: 25\n",
      "Müşteri Sayısı: 50\n",
      "İlk 5 Depo Kapasitesi: [58268.0, 58268.0, 58268.0, 58268.0, 58268.0]\n",
      "İlk 5 Kurulum Maliyeti: [7500.0, 7500.0, 7500.0, 7500.0, 7500.0]\n",
      "İlk 5 Müşteri Talebi: [146.0, 87.0, 672.0, 1337.0, 31.0]\n",
      "İlk Müşterinin Ulaşım Maliyetleri (İlk 5 depo): [6739.725, 10355.05, 7650.4, 5219.5, 5776.125]\n"
     ]
    }
   ],
   "source": [
    "file = \"wl_25.txt\"  # veya dosya adın tam olarak neyse\n",
    "n_d, n_c, caps, fixed, demands, costs = read_wlp_data(file)\n",
    "\n",
    "print(\"Depo Sayısı:\", n_d)\n",
    "print(\"Müşteri Sayısı:\", n_c)\n",
    "print(\"İlk 5 Depo Kapasitesi:\", caps[:5])\n",
    "print(\"İlk 5 Kurulum Maliyeti:\", fixed[:5])\n",
    "print(\"İlk 5 Müşteri Talebi:\", demands[:5])\n",
    "print(\"İlk Müşterinin Ulaşım Maliyetleri (İlk 5 depo):\", costs[0][:5])"
   ]
  },
  {
   "cell_type": "code",
   "execution_count": 3,
   "id": "14a89fb5-0fd8-433e-9c1e-805f69c0bf48",
   "metadata": {},
   "outputs": [],
   "source": [
    "def greedy_assignment(n_depos, n_customers, capacities, fixed_costs, demands, costs):\n",
    "    remaining_cap = capacities.copy()\n",
    "    open_depos = set()\n",
    "    assignments = [-1] * n_customers\n",
    "    total_cost = 0.0\n",
    "\n",
    "    for customer in range(n_customers):\n",
    "        demand = demands[customer]\n",
    "        best_depo = -1\n",
    "        best_cost = float('inf')\n",
    "\n",
    "        for depo in range(n_depos):\n",
    "            if remaining_cap[depo] >= demand and costs[customer][depo] < best_cost:\n",
    "                best_cost = costs[customer][depo]\n",
    "                best_depo = depo\n",
    "\n",
    "        if best_depo == -1:\n",
    "            raise Exception(f\"Müşteri {customer} hiçbir depoya atanamıyor!\")\n",
    "\n",
    "        assignments[customer] = best_depo\n",
    "        remaining_cap[best_depo] -= demand\n",
    "        total_cost += best_cost\n",
    "\n",
    "        if best_depo not in open_depos:\n",
    "            open_depos.add(best_depo)\n",
    "            total_cost += fixed_costs[best_depo]\n",
    "\n",
    "    return total_cost, assignments"
   ]
  },
  {
   "cell_type": "code",
   "execution_count": 4,
   "id": "1a787610-475f-453c-9745-4715438becce",
   "metadata": {},
   "outputs": [
    {
     "name": "stdout",
     "output_type": "stream",
     "text": [
      "🔢 Toplam Maliyet: 832291.15\n",
      "📋 Atamalar: [7, 11, 0, 24, 20, 0, 1, 2, 21, 7, 3, 4, 5, 0, 6, 7, 3, 8, 20, 6, 20, 9, 10, 0, 11, 4, 12, 10, 13, 14, 15, 10, 15, 16, 11, 11, 17, 18, 23, 24, 19, 20, 21, 6, 22, 23, 23, 6, 24, 11]\n"
     ]
    }
   ],
   "source": [
    "total_cost, assignments = greedy_assignment(n_d, n_c, caps, fixed, demands, costs)\n",
    "\n",
    "print(\"🔢 Toplam Maliyet:\", total_cost)\n",
    "print(\"📋 Atamalar:\", assignments)"
   ]
  },
  {
   "cell_type": "code",
   "execution_count": 5,
   "id": "a6b6ee9c-cdcf-4305-987e-a94ff16bb864",
   "metadata": {},
   "outputs": [],
   "source": [
    "import pandas as pd\n",
    "\n",
    "def export_results_to_excel(assignments, total_cost, filename=\"wlp_25_sonuc.xlsx\"):\n",
    "    df = pd.DataFrame({\n",
    "        \"Müşteri\": list(range(len(assignments))),\n",
    "        \"Atanan Depo\": assignments\n",
    "    })\n",
    "\n",
    "    # Üst satıra toplam maliyet yazalım\n",
    "    with pd.ExcelWriter(filename, engine=\"openpyxl\") as writer:\n",
    "        df.to_excel(writer, index=False, sheet_name=\"Atamalar\", startrow=2)\n",
    "        writer.sheets[\"Atamalar\"].cell(row=1, column=1, value=\"Toplam Maliyet\")\n",
    "        writer.sheets[\"Atamalar\"].cell(row=1, column=2, value=total_cost)\n",
    "\n",
    "    print(f\"Excel dosyası başarıyla kaydedildi: {filename}\")"
   ]
  },
  {
   "cell_type": "code",
   "execution_count": 6,
   "id": "b9094a8d-eb0f-4a44-935f-96cd556a4391",
   "metadata": {},
   "outputs": [
    {
     "name": "stdout",
     "output_type": "stream",
     "text": [
      "Excel dosyası başarıyla kaydedildi: wlp_25_sonuc.xlsx\n"
     ]
    }
   ],
   "source": [
    "export_results_to_excel(assignments, total_cost)"
   ]
  },
  {
   "cell_type": "code",
   "execution_count": 7,
   "id": "70709c70-b900-4202-9ae9-5460157eb434",
   "metadata": {},
   "outputs": [],
   "source": [
    "n_d2, n_c2, caps2, fixed2, demands2, costs2 = read_wlp_data(\"wl_50.txt\")\n"
   ]
  },
  {
   "cell_type": "code",
   "execution_count": 8,
   "id": "707be43e-cf7a-4d43-b728-c47d35bb000b",
   "metadata": {},
   "outputs": [
    {
     "name": "stdout",
     "output_type": "stream",
     "text": [
      "🔢 Toplam Maliyet (wl_50): 1236571.45\n",
      "📋 Atamalar: [0, 1, 2, 3, 4, 5, 6, 7, 8, 9, 10, 11, 12, 13, 14, 15, 16, 17, 18, 19, 20, 21, 22, 23, 24, 25, 26, 27, 28, 29, 30, 31, 32, 33, 34, 35, 36, 37, 38, 39, 40, 41, 42, 43, 44, 45, 46, 47, 48, 49]\n"
     ]
    }
   ],
   "source": [
    "total_cost2, assignments2 = greedy_assignment(n_d2, n_c2, caps2, fixed2, demands2, costs2)\n",
    "\n",
    "print(\"🔢 Toplam Maliyet (wl_50):\", total_cost2)\n",
    "print(\"📋 Atamalar:\", assignments2)\n"
   ]
  },
  {
   "cell_type": "code",
   "execution_count": 9,
   "id": "8ae32447-7ed0-4011-99f6-d47c753b0d0f",
   "metadata": {},
   "outputs": [
    {
     "name": "stdout",
     "output_type": "stream",
     "text": [
      "Excel dosyası başarıyla kaydedildi: wlp_50_sonuc.xlsx\n"
     ]
    }
   ],
   "source": [
    "export_results_to_excel(assignments2, total_cost2, filename=\"wlp_50_sonuc.xlsx\")\n"
   ]
  },
  {
   "cell_type": "code",
   "execution_count": 10,
   "id": "e47a6ddd-ce9a-4650-aceb-4b7a7efd3f90",
   "metadata": {},
   "outputs": [],
   "source": [
    "n_d3, n_c3, caps3, fixed3, demands3, costs3 = read_wlp_data(\"wl_200.txt\")\n"
   ]
  },
  {
   "cell_type": "code",
   "execution_count": 11,
   "id": "cbe22fd8-578a-451b-a16a-24aa0f60a53c",
   "metadata": {},
   "outputs": [
    {
     "name": "stdout",
     "output_type": "stream",
     "text": [
      "🔢 Toplam Maliyet (wl_200): 45816.050579999974\n",
      "📋 Atamalar: [197, 95, 84, 125, 173, 53, 185, 93, 113, 134, 178, 198, 111, 101, 162, 47, 66, 23, 148, 2] ...\n"
     ]
    }
   ],
   "source": [
    "total_cost3, assignments3 = greedy_assignment(n_d3, n_c3, caps3, fixed3, demands3, costs3)\n",
    "\n",
    "print(\"🔢 Toplam Maliyet (wl_200):\", total_cost3)\n",
    "print(\"📋 Atamalar:\", assignments3[:20], \"...\")  # sadece ilk 20'sini yaz\n"
   ]
  },
  {
   "cell_type": "code",
   "execution_count": 12,
   "id": "7cc6e73c-b071-467d-bc59-68edf4a4ffc5",
   "metadata": {},
   "outputs": [
    {
     "name": "stdout",
     "output_type": "stream",
     "text": [
      "Excel dosyası başarıyla kaydedildi: wlp_200_sonuc.xlsx\n"
     ]
    }
   ],
   "source": [
    "export_results_to_excel(assignments3, total_cost3, filename=\"wlp_200_sonuc.xlsx\")\n"
   ]
  },
  {
   "cell_type": "code",
   "execution_count": 13,
   "id": "b1b4eff8-c3f3-49dd-880d-0dbcf9d5a730",
   "metadata": {},
   "outputs": [],
   "source": [
    "n_d4, n_c4, caps4, fixed4, demands4, costs4 = read_wlp_data(\"wl_300.txt\")\n"
   ]
  },
  {
   "cell_type": "code",
   "execution_count": 14,
   "id": "263c4690-d7f6-4490-92d2-e67aa29eabfe",
   "metadata": {},
   "outputs": [
    {
     "name": "stdout",
     "output_type": "stream",
     "text": [
      "🔢 Toplam Maliyet (wl_300): 101482.57200000004\n",
      "📋 Atamalar: [134, 53, 30, 256, 125, 90, 225, 275, 35, 100, 221, 275, 240, 193, 156, 49, 161, 4, 200, 118] ...\n"
     ]
    }
   ],
   "source": [
    "total_cost4, assignments4 = greedy_assignment(n_d4, n_c4, caps4, fixed4, demands4, costs4)\n",
    "\n",
    "print(\"🔢 Toplam Maliyet (wl_300):\", total_cost4)\n",
    "print(\"📋 Atamalar:\", assignments4[:20], \"...\")\n"
   ]
  },
  {
   "cell_type": "code",
   "execution_count": 15,
   "id": "219e5d0e-04b3-41ce-b706-3b940cba470c",
   "metadata": {},
   "outputs": [
    {
     "name": "stdout",
     "output_type": "stream",
     "text": [
      "Excel dosyası başarıyla kaydedildi: wlp_300_sonuc.xlsx\n"
     ]
    }
   ],
   "source": [
    "export_results_to_excel(assignments4, total_cost4, filename=\"wlp_300_sonuc.xlsx\")\n"
   ]
  },
  {
   "cell_type": "code",
   "execution_count": 16,
   "id": "e10bbdfc-b07e-4941-bb0a-49e96d1fcc2f",
   "metadata": {},
   "outputs": [],
   "source": [
    "n_d5, n_c5, caps5, fixed5, demands5, costs5 = read_wlp_data(\"wl_500.txt\")\n"
   ]
  },
  {
   "cell_type": "code",
   "execution_count": 17,
   "id": "a8c1ebb3-a90f-4738-9d6a-69426314710c",
   "metadata": {},
   "outputs": [],
   "source": [
    "total_cost5, assignments5 = greedy_assignment(n_d5, n_c5, caps5, fixed5, demands5, costs5)\n"
   ]
  },
  {
   "cell_type": "code",
   "execution_count": 18,
   "id": "cfae205f-dae0-41bf-ad47-29212b60f0d5",
   "metadata": {},
   "outputs": [
    {
     "name": "stdout",
     "output_type": "stream",
     "text": [
      "🔢 Toplam Maliyet (wl_500): 99795.03573999998\n",
      "📋 Atamalar: [432, 79, 473, 419, 269, 355, 87, 51, 60, 324, 260, 38, 31, 66, 176, 344, 161, 168, 471, 276, 94, 458, 499, 154, 29, 290, 76, 199, 437, 458, 96, 392, 475, 372, 64, 442, 141, 98, 269, 425, 427, 243, 9, 286, 369, 31, 149, 471, 245, 484, 35, 140, 256, 467, 166, 338, 384, 385, 276, 94, 104, 121, 446, 221, 379, 285, 351, 381, 133, 330, 460, 472, 184, 304, 251, 92, 406, 261, 341, 429, 94, 267, 54, 135, 217, 121, 350, 337, 470, 128, 320, 445, 272, 234, 176, 176, 403, 111, 215, 163, 268, 84, 144, 426, 109, 497, 171, 240, 493, 183, 409, 473, 8, 412, 110, 123, 356, 407, 63, 15, 443, 205, 391, 58, 214, 144, 121, 123, 337, 102, 265, 435, 386, 423, 499, 279, 295, 17, 397, 118, 336, 481, 8, 416, 64, 484, 200, 33, 433, 164, 367, 293, 325, 216, 498, 367, 111, 109, 371, 324, 354, 360, 131, 285, 135, 19, 2, 275, 367, 0, 69, 141, 407, 165, 60, 497, 474, 103, 130, 106, 443, 174, 266, 365, 252, 102, 27, 51, 489, 350, 435, 265, 333, 13, 386, 337, 431, 375, 351, 476, 75, 348, 126, 54, 370, 118, 485, 195, 37, 325, 372, 196, 335, 120, 344, 297, 31, 6, 486, 135, 459, 27, 479, 22, 431, 308, 262, 168, 399, 53, 269, 395, 336, 73, 135, 367, 480, 441, 67, 457, 318, 113, 210, 38, 21, 59, 238, 196, 272, 274, 144, 113, 463, 256, 421, 309, 458, 462, 434, 331, 426, 482, 94, 149, 420, 166, 6, 301, 274, 182, 384, 78, 247, 31, 53, 175, 204, 364, 253, 274, 105, 435, 202, 206, 12, 182, 88, 359, 221, 432, 137, 216, 12, 103, 12, 64, 398, 4, 332, 421, 367, 363, 393, 82, 277, 386, 173, 231, 273, 128, 433, 391, 58, 65, 304, 263, 90, 108, 140, 262, 334, 408, 322, 91, 395, 482, 461, 381, 402, 493, 446, 281, 46, 270, 151, 200, 113, 208, 306, 454, 140, 213, 59, 471, 333, 42, 434, 112, 364, 178, 275, 165, 350, 198, 254, 19, 482, 148, 26, 368, 97, 65, 162, 134, 186, 154, 319, 363, 129, 489, 312, 426, 427, 56, 279, 78, 128, 19, 144, 192, 280, 286, 147, 481, 153, 426, 481, 484, 108, 276, 332, 106, 244, 384, 1, 74, 72, 257, 327, 114, 257, 112, 73, 464, 422, 75, 461, 459, 297, 446, 278, 333, 455, 487, 354, 263, 22, 8, 386, 463, 416, 460, 166, 318, 384, 23, 61, 318, 281, 195, 464, 8, 413, 225, 73, 476, 425, 395, 369, 473, 373, 127, 158, 14, 350, 276, 138, 187, 431, 345, 388, 19, 407, 379, 271, 380, 150, 385, 305, 437, 494, 220, 470, 84, 274, 122, 54, 13, 346, 403, 8, 58, 25, 387, 52, 458, 390, 12, 4, 192, 135, 180, 496, 115, 425, 380, 480, 321, 19, 342, 354, 371, 473, 460, 66, 395, 78, 265, 407, 271]\n"
     ]
    }
   ],
   "source": [
    "print(\"🔢 Toplam Maliyet (wl_500):\", total_cost5)\n",
    "print(\"📋 Atamalar:\", assignments5)\n"
   ]
  },
  {
   "cell_type": "code",
   "execution_count": null,
   "id": "9aee2437-80f9-40c5-af21-922546641803",
   "metadata": {},
   "outputs": [],
   "source": [
    "export_results_to_excel(assignments5, total_cost5, filename=\"wlp_300_sonuc.xlsx\")"
   ]
  }
 ],
 "metadata": {
  "kernelspec": {
   "display_name": "Python 3 (ipykernel)",
   "language": "python",
   "name": "python3"
  },
  "language_info": {
   "codemirror_mode": {
    "name": "ipython",
    "version": 3
   },
   "file_extension": ".py",
   "mimetype": "text/x-python",
   "name": "python",
   "nbconvert_exporter": "python",
   "pygments_lexer": "ipython3",
   "version": "3.8.18"
  }
 },
 "nbformat": 4,
 "nbformat_minor": 5
}
